{
 "cells": [
  {
   "cell_type": "markdown",
   "metadata": {
    "id": "njUvbhQmC8-t"
   },
   "source": [
    "## Exercício 1: Vestibular\n",
    "\n",
    "Considere que a os dados gerados na célula abaixo contêm o número de acertos de 100 alunos em um vestibular para um curso de exatas, divididas pelos respectivos assuntos. Considere que cada assunto possui um número de questões conforme a tabela abaixo:\n",
    "\n",
    "| assunto | número de questões |\n",
    "|:---:|:---:|\n",
    "| Matemática | 24 |\n",
    "| Português | 18 |\n",
    "| Geografia | 8 |\n",
    "| Inglês | 8 |\n",
    "| História | 8 |\n",
    "| Física | 12 |\n",
    "| Química | 12 |\n",
    "\n",
    "Usando os comandos de operações com DataFrames que você aprendeu na Aula 03, calcule:\n",
    "\n",
    "1. (operações com escalar) Calcule o percentual de acerto dos alunos por assunto.  \n",
    "2. (operações entre *DataFrames) Calcule o total de acertos de cada aluno.  \n",
    "3. Calcule o porcentual geral de cada aluno.  \n",
    "4. Suponha que a nota de corte para a segunda fase seja 45. Quantos alunos tiveram nota maior que 45?  "
   ]
  },
  {
   "cell_type": "code",
   "execution_count": 3,
   "metadata": {
    "id": "Ll6TadxCC8-y"
   },
   "outputs": [],
   "source": [
    "import pandas as pd\n",
    "import numpy as np\n",
    "\n",
    "np.random.seed(42)\n",
    "df_mat = pd.DataFrame(np.random.randint(24, size=(100, 1)), columns=['Qt_acertos'])\n",
    "\n",
    "df_por = pd.DataFrame(np.random.randint(18, size=(100, 1)), columns=['Qt_acertos'])\n",
    "\n",
    "df_geo = pd.DataFrame(np.random.randint(8, size=(100, 1)), columns=['Qt_acertos'])\n",
    "\n",
    "df_ing = pd.DataFrame(np.random.randint(8, size=(100, 1)), columns=['Qt_acertos'])\n",
    "\n",
    "df_his = pd.DataFrame(np.random.randint(8, size=(100, 1)), columns=['Qt_acertos'])\n",
    "\n",
    "df_fis = pd.DataFrame(np.random.randint(12, size=(100, 1)), columns=['Qt_acertos'])\n",
    "\n",
    "df_qui = pd.DataFrame(np.random.randint(12, size=(100, 1)), columns=['Qt_acertos'])\n"
   ]
  },
  {
   "cell_type": "code",
   "execution_count": 4,
   "metadata": {
    "id": "JVmLXiC2C8-0"
   },
   "outputs": [],
   "source": [
    "# Passo 1: Definir o número de questões por assunto\n",
    "num_questoes_matematica = 24\n",
    "num_questoes_portugues = 18\n",
    "num_questoes_geografia = 8\n",
    "num_questoes_ingles = 8\n",
    "num_questoes_historia = 8\n",
    "num_questoes_fisica = 12\n",
    "num_questoes_quimica = 12\n",
    "\n"
   ]
  },
  {
   "cell_type": "code",
   "execution_count": 5,
   "metadata": {},
   "outputs": [],
   "source": [
    "# 1)(operações com escalar) Calcule o percentual de acerto dos alunos por assunto.\n",
    "df_acerto_mat = round((df_mat / num_questoes_matematica) * 100, 1)\n",
    "df_acerto_por = round((df_por / num_questoes_portugues) * 100, 1)\n",
    "df_acerto_geo = round((df_geo / num_questoes_geografia) * 100, 1)\n",
    "df_acerto_ing = round((df_ing / num_questoes_ingles) * 100, 1)\n",
    "df_acerto_his = round((df_his / num_questoes_historia) * 100, 1)\n",
    "df_acerto_fis = round((df_fis / num_questoes_fisica) * 100, 1)\n",
    "df_acerto_qui = round((df_qui / num_questoes_quimica) * 100, 1)\n",
    "\n"
   ]
  },
  {
   "cell_type": "code",
   "execution_count": 6,
   "metadata": {},
   "outputs": [],
   "source": [
    "#renomeando as colunas\n",
    "df_acerto_mat = df_acerto_mat.rename(columns ={'Qt_acertos':'% Acert. Mat'}) \n",
    "df_acerto_por = df_acerto_por.rename(columns ={'Qt_acertos':'% Acert. Por'}) \n",
    "df_acerto_geo = df_acerto_geo.rename(columns ={'Qt_acertos':'% Acert. Geo'}) \n",
    "df_acerto_ing = df_acerto_ing.rename(columns ={'Qt_acertos':'% Acert. Ing'}) \n",
    "df_acerto_his = df_acerto_his.rename(columns ={'Qt_acertos':'% Acert. His'}) \n",
    "df_acerto_fis = df_acerto_fis.rename(columns ={'Qt_acertos':'% Acert. Fis'}) \n",
    "df_acerto_qui = df_acerto_qui.rename(columns ={'Qt_acertos':'% Acert. Qui'}) \n"
   ]
  },
  {
   "cell_type": "code",
   "execution_count": 7,
   "metadata": {},
   "outputs": [
    {
     "data": {
      "text/html": [
       "<div>\n",
       "<style scoped>\n",
       "    .dataframe tbody tr th:only-of-type {\n",
       "        vertical-align: middle;\n",
       "    }\n",
       "\n",
       "    .dataframe tbody tr th {\n",
       "        vertical-align: top;\n",
       "    }\n",
       "\n",
       "    .dataframe thead th {\n",
       "        text-align: right;\n",
       "    }\n",
       "</style>\n",
       "<table border=\"1\" class=\"dataframe\">\n",
       "  <thead>\n",
       "    <tr style=\"text-align: right;\">\n",
       "      <th></th>\n",
       "      <th>% Acert. Mat</th>\n",
       "      <th>% Acert. Por</th>\n",
       "      <th>% Acert. Geo</th>\n",
       "      <th>% Acert. Ing</th>\n",
       "      <th>% Acert. His</th>\n",
       "      <th>% Acert. Fis</th>\n",
       "      <th>% Acert. Qui</th>\n",
       "    </tr>\n",
       "  </thead>\n",
       "  <tbody>\n",
       "    <tr>\n",
       "      <th>0</th>\n",
       "      <td>25.0</td>\n",
       "      <td>38.9</td>\n",
       "      <td>87.5</td>\n",
       "      <td>37.5</td>\n",
       "      <td>12.5</td>\n",
       "      <td>66.7</td>\n",
       "      <td>25.0</td>\n",
       "    </tr>\n",
       "    <tr>\n",
       "      <th>1</th>\n",
       "      <td>79.2</td>\n",
       "      <td>55.6</td>\n",
       "      <td>0.0</td>\n",
       "      <td>0.0</td>\n",
       "      <td>0.0</td>\n",
       "      <td>91.7</td>\n",
       "      <td>66.7</td>\n",
       "    </tr>\n",
       "    <tr>\n",
       "      <th>2</th>\n",
       "      <td>58.3</td>\n",
       "      <td>88.9</td>\n",
       "      <td>0.0</td>\n",
       "      <td>62.5</td>\n",
       "      <td>87.5</td>\n",
       "      <td>33.3</td>\n",
       "      <td>33.3</td>\n",
       "    </tr>\n",
       "    <tr>\n",
       "      <th>3</th>\n",
       "      <td>41.7</td>\n",
       "      <td>38.9</td>\n",
       "      <td>37.5</td>\n",
       "      <td>50.0</td>\n",
       "      <td>0.0</td>\n",
       "      <td>0.0</td>\n",
       "      <td>66.7</td>\n",
       "    </tr>\n",
       "    <tr>\n",
       "      <th>4</th>\n",
       "      <td>29.2</td>\n",
       "      <td>11.1</td>\n",
       "      <td>25.0</td>\n",
       "      <td>87.5</td>\n",
       "      <td>0.0</td>\n",
       "      <td>75.0</td>\n",
       "      <td>25.0</td>\n",
       "    </tr>\n",
       "  </tbody>\n",
       "</table>\n",
       "</div>"
      ],
      "text/plain": [
       "   % Acert. Mat  % Acert. Por  % Acert. Geo  % Acert. Ing  % Acert. His  \\\n",
       "0          25.0          38.9          87.5          37.5          12.5   \n",
       "1          79.2          55.6           0.0           0.0           0.0   \n",
       "2          58.3          88.9           0.0          62.5          87.5   \n",
       "3          41.7          38.9          37.5          50.0           0.0   \n",
       "4          29.2          11.1          25.0          87.5           0.0   \n",
       "\n",
       "   % Acert. Fis  % Acert. Qui  \n",
       "0          66.7          25.0  \n",
       "1          91.7          66.7  \n",
       "2          33.3          33.3  \n",
       "3           0.0          66.7  \n",
       "4          75.0          25.0  "
      ]
     },
     "execution_count": 7,
     "metadata": {},
     "output_type": "execute_result"
    }
   ],
   "source": [
    "#concatenando as dataframes\n",
    "df_acerto_assunto = pd.concat([df_acerto_mat, df_acerto_por, df_acerto_geo, df_acerto_ing, df_acerto_his, df_acerto_fis, df_acerto_qui] , axis =1)\n",
    "df_acerto_assunto.head()"
   ]
  },
  {
   "cell_type": "code",
   "execution_count": 8,
   "metadata": {
    "id": "JbTwCyNHC8-1"
   },
   "outputs": [
    {
     "data": {
      "text/html": [
       "<div>\n",
       "<style scoped>\n",
       "    .dataframe tbody tr th:only-of-type {\n",
       "        vertical-align: middle;\n",
       "    }\n",
       "\n",
       "    .dataframe tbody tr th {\n",
       "        vertical-align: top;\n",
       "    }\n",
       "\n",
       "    .dataframe thead th {\n",
       "        text-align: right;\n",
       "    }\n",
       "</style>\n",
       "<table border=\"1\" class=\"dataframe\">\n",
       "  <thead>\n",
       "    <tr style=\"text-align: right;\">\n",
       "      <th></th>\n",
       "      <th>Ttl. Acert. por aluno</th>\n",
       "    </tr>\n",
       "  </thead>\n",
       "  <tbody>\n",
       "    <tr>\n",
       "      <th>0</th>\n",
       "      <td>35</td>\n",
       "    </tr>\n",
       "    <tr>\n",
       "      <th>1</th>\n",
       "      <td>48</td>\n",
       "    </tr>\n",
       "    <tr>\n",
       "      <th>2</th>\n",
       "      <td>50</td>\n",
       "    </tr>\n",
       "    <tr>\n",
       "      <th>3</th>\n",
       "      <td>32</td>\n",
       "    </tr>\n",
       "    <tr>\n",
       "      <th>4</th>\n",
       "      <td>30</td>\n",
       "    </tr>\n",
       "  </tbody>\n",
       "</table>\n",
       "</div>"
      ],
      "text/plain": [
       "   Ttl. Acert. por aluno\n",
       "0                     35\n",
       "1                     48\n",
       "2                     50\n",
       "3                     32\n",
       "4                     30"
      ]
     },
     "execution_count": 8,
     "metadata": {},
     "output_type": "execute_result"
    }
   ],
   "source": [
    "# 2) (operações entre *DataFrames) Calcule o total de acertos de cada aluno.\n",
    "df_total_acertos = df_mat + df_por + df_geo + df_ing + df_his + df_fis + df_qui\n",
    "df_total_acertos = df_total_acertos.rename(columns ={'Qt_acertos':'Ttl. Acert. por aluno'}) \n",
    "df_total_acertos.head()"
   ]
  },
  {
   "cell_type": "code",
   "execution_count": 9,
   "metadata": {
    "id": "c2L8dJkVC8-3"
   },
   "outputs": [
    {
     "data": {
      "text/html": [
       "<div>\n",
       "<style scoped>\n",
       "    .dataframe tbody tr th:only-of-type {\n",
       "        vertical-align: middle;\n",
       "    }\n",
       "\n",
       "    .dataframe tbody tr th {\n",
       "        vertical-align: top;\n",
       "    }\n",
       "\n",
       "    .dataframe thead th {\n",
       "        text-align: right;\n",
       "    }\n",
       "</style>\n",
       "<table border=\"1\" class=\"dataframe\">\n",
       "  <thead>\n",
       "    <tr style=\"text-align: right;\">\n",
       "      <th></th>\n",
       "      <th>% Acert. por aluno</th>\n",
       "    </tr>\n",
       "  </thead>\n",
       "  <tbody>\n",
       "    <tr>\n",
       "      <th>0</th>\n",
       "      <td>38.89</td>\n",
       "    </tr>\n",
       "    <tr>\n",
       "      <th>1</th>\n",
       "      <td>53.33</td>\n",
       "    </tr>\n",
       "    <tr>\n",
       "      <th>2</th>\n",
       "      <td>55.56</td>\n",
       "    </tr>\n",
       "    <tr>\n",
       "      <th>3</th>\n",
       "      <td>35.56</td>\n",
       "    </tr>\n",
       "    <tr>\n",
       "      <th>4</th>\n",
       "      <td>33.33</td>\n",
       "    </tr>\n",
       "  </tbody>\n",
       "</table>\n",
       "</div>"
      ],
      "text/plain": [
       "   % Acert. por aluno\n",
       "0               38.89\n",
       "1               53.33\n",
       "2               55.56\n",
       "3               35.56\n",
       "4               33.33"
      ]
     },
     "execution_count": 9,
     "metadata": {},
     "output_type": "execute_result"
    }
   ],
   "source": [
    "# 3) Calcule o porcentual geral de cada aluno\n",
    "total_questoes = num_questoes_matematica + num_questoes_portugues + num_questoes_geografia + num_questoes_ingles + num_questoes_historia + num_questoes_fisica + num_questoes_quimica\n",
    "\n",
    "df_porc_total_por_aluno = round(((df_total_acertos / total_questoes) * 100), 2)\n",
    "\n",
    "df_porc_total_por_aluno = df_porc_total_por_aluno.rename(columns ={'Ttl. Acert. por aluno' : '% Acert. por aluno'})\n",
    "df_porc_total_por_aluno.head()"
   ]
  },
  {
   "cell_type": "code",
   "execution_count": 10,
   "metadata": {
    "id": "PZTZ7DFzC8-3"
   },
   "outputs": [
    {
     "name": "stdout",
     "output_type": "stream",
     "text": [
      "O número total de alunos com nota acima de 45 é:  34\n"
     ]
    }
   ],
   "source": [
    "# 4) Suponha que a nota de corte para a segunda fase seja 45. Quantos alunos tiveram nota maior que 45?\n",
    "# Verificando quantos alunos têm nota maior que 45\n",
    "\n",
    "df_total_acertos['Acima Nota Corte'] = 0\n",
    "df_total_acertos.loc[df_total_acertos['Ttl. Acert. por aluno'] >= 45, 'Acima Nota Corte'] = 1\n",
    "total_alunos_acima_corte = df_total_acertos['Acima Nota Corte'].sum()\n",
    "\n",
    "print(\"O número total de alunos com nota acima de 45 é: \",  total_alunos_acima_corte)"
   ]
  },
  {
   "cell_type": "markdown",
   "metadata": {
    "id": "Hlfl75XXC8-4"
   },
   "source": [
    "## 2) Vestibular II\n",
    "\n",
    "Ainda sobre o mesmo banco de dados:\n",
    "\n",
    "1. Neste vestibular, quem 'zera' em matemática, física ou química está desqualificado. Monte um novo *DataFrame* com os alunos desqualificados por este critério.\n",
    "2. Quantos são esses alunos?\n",
    "3. Qual a média desses alunos em história e geografia?\n",
    "4. Monte um *DataFrame* com os alunos que passaram para a segunda fase. Repare que estes alunos não podem ter sido desqualificados."
   ]
  },
  {
   "cell_type": "markdown",
   "metadata": {},
   "source": [
    "1. Para a primeira atividade eu vou criar um novo dataframe combinando vários df para facilitar a leitura. "
   ]
  },
  {
   "cell_type": "code",
   "execution_count": 11,
   "metadata": {},
   "outputs": [
    {
     "data": {
      "text/html": [
       "<div>\n",
       "<style scoped>\n",
       "    .dataframe tbody tr th:only-of-type {\n",
       "        vertical-align: middle;\n",
       "    }\n",
       "\n",
       "    .dataframe tbody tr th {\n",
       "        vertical-align: top;\n",
       "    }\n",
       "\n",
       "    .dataframe thead th {\n",
       "        text-align: right;\n",
       "    }\n",
       "</style>\n",
       "<table border=\"1\" class=\"dataframe\">\n",
       "  <thead>\n",
       "    <tr style=\"text-align: right;\">\n",
       "      <th></th>\n",
       "      <th>% Acert. Mat</th>\n",
       "      <th>% Acert. Por</th>\n",
       "      <th>% Acert. Geo</th>\n",
       "      <th>% Acert. Ing</th>\n",
       "      <th>% Acert. His</th>\n",
       "      <th>% Acert. Fis</th>\n",
       "      <th>% Acert. Qui</th>\n",
       "      <th>Desqualificados</th>\n",
       "    </tr>\n",
       "  </thead>\n",
       "  <tbody>\n",
       "    <tr>\n",
       "      <th>0</th>\n",
       "      <td>25.0</td>\n",
       "      <td>38.9</td>\n",
       "      <td>87.5</td>\n",
       "      <td>37.5</td>\n",
       "      <td>12.5</td>\n",
       "      <td>66.7</td>\n",
       "      <td>25.0</td>\n",
       "      <td>0</td>\n",
       "    </tr>\n",
       "    <tr>\n",
       "      <th>1</th>\n",
       "      <td>79.2</td>\n",
       "      <td>55.6</td>\n",
       "      <td>0.0</td>\n",
       "      <td>0.0</td>\n",
       "      <td>0.0</td>\n",
       "      <td>91.7</td>\n",
       "      <td>66.7</td>\n",
       "      <td>0</td>\n",
       "    </tr>\n",
       "    <tr>\n",
       "      <th>2</th>\n",
       "      <td>58.3</td>\n",
       "      <td>88.9</td>\n",
       "      <td>0.0</td>\n",
       "      <td>62.5</td>\n",
       "      <td>87.5</td>\n",
       "      <td>33.3</td>\n",
       "      <td>33.3</td>\n",
       "      <td>0</td>\n",
       "    </tr>\n",
       "    <tr>\n",
       "      <th>3</th>\n",
       "      <td>41.7</td>\n",
       "      <td>38.9</td>\n",
       "      <td>37.5</td>\n",
       "      <td>50.0</td>\n",
       "      <td>0.0</td>\n",
       "      <td>0.0</td>\n",
       "      <td>66.7</td>\n",
       "      <td>0</td>\n",
       "    </tr>\n",
       "    <tr>\n",
       "      <th>4</th>\n",
       "      <td>29.2</td>\n",
       "      <td>11.1</td>\n",
       "      <td>25.0</td>\n",
       "      <td>87.5</td>\n",
       "      <td>0.0</td>\n",
       "      <td>75.0</td>\n",
       "      <td>25.0</td>\n",
       "      <td>0</td>\n",
       "    </tr>\n",
       "  </tbody>\n",
       "</table>\n",
       "</div>"
      ],
      "text/plain": [
       "   % Acert. Mat  % Acert. Por  % Acert. Geo  % Acert. Ing  % Acert. His  \\\n",
       "0          25.0          38.9          87.5          37.5          12.5   \n",
       "1          79.2          55.6           0.0           0.0           0.0   \n",
       "2          58.3          88.9           0.0          62.5          87.5   \n",
       "3          41.7          38.9          37.5          50.0           0.0   \n",
       "4          29.2          11.1          25.0          87.5           0.0   \n",
       "\n",
       "   % Acert. Fis  % Acert. Qui  Desqualificados  \n",
       "0          66.7          25.0                0  \n",
       "1          91.7          66.7                0  \n",
       "2          33.3          33.3                0  \n",
       "3           0.0          66.7                0  \n",
       "4          75.0          25.0                0  "
      ]
     },
     "execution_count": 11,
     "metadata": {},
     "output_type": "execute_result"
    }
   ],
   "source": [
    "df_acerto_assunto['Desqualificados'] = 0\n",
    "df_acerto_assunto.head()\n"
   ]
  },
  {
   "cell_type": "code",
   "execution_count": 12,
   "metadata": {},
   "outputs": [
    {
     "data": {
      "text/html": [
       "<div>\n",
       "<style scoped>\n",
       "    .dataframe tbody tr th:only-of-type {\n",
       "        vertical-align: middle;\n",
       "    }\n",
       "\n",
       "    .dataframe tbody tr th {\n",
       "        vertical-align: top;\n",
       "    }\n",
       "\n",
       "    .dataframe thead th {\n",
       "        text-align: right;\n",
       "    }\n",
       "</style>\n",
       "<table border=\"1\" class=\"dataframe\">\n",
       "  <thead>\n",
       "    <tr style=\"text-align: right;\">\n",
       "      <th></th>\n",
       "      <th>% Acert. Mat</th>\n",
       "      <th>% Acert. Por</th>\n",
       "      <th>% Acert. Geo</th>\n",
       "      <th>% Acert. Ing</th>\n",
       "      <th>% Acert. His</th>\n",
       "      <th>% Acert. Fis</th>\n",
       "      <th>% Acert. Qui</th>\n",
       "      <th>Desqualificados</th>\n",
       "    </tr>\n",
       "  </thead>\n",
       "  <tbody>\n",
       "    <tr>\n",
       "      <th>0</th>\n",
       "      <td>25.0</td>\n",
       "      <td>38.9</td>\n",
       "      <td>87.5</td>\n",
       "      <td>37.5</td>\n",
       "      <td>12.5</td>\n",
       "      <td>66.7</td>\n",
       "      <td>25.0</td>\n",
       "      <td>0</td>\n",
       "    </tr>\n",
       "    <tr>\n",
       "      <th>1</th>\n",
       "      <td>79.2</td>\n",
       "      <td>55.6</td>\n",
       "      <td>0.0</td>\n",
       "      <td>0.0</td>\n",
       "      <td>0.0</td>\n",
       "      <td>91.7</td>\n",
       "      <td>66.7</td>\n",
       "      <td>0</td>\n",
       "    </tr>\n",
       "    <tr>\n",
       "      <th>2</th>\n",
       "      <td>58.3</td>\n",
       "      <td>88.9</td>\n",
       "      <td>0.0</td>\n",
       "      <td>62.5</td>\n",
       "      <td>87.5</td>\n",
       "      <td>33.3</td>\n",
       "      <td>33.3</td>\n",
       "      <td>0</td>\n",
       "    </tr>\n",
       "    <tr>\n",
       "      <th>3</th>\n",
       "      <td>41.7</td>\n",
       "      <td>38.9</td>\n",
       "      <td>37.5</td>\n",
       "      <td>50.0</td>\n",
       "      <td>0.0</td>\n",
       "      <td>0.0</td>\n",
       "      <td>66.7</td>\n",
       "      <td>1</td>\n",
       "    </tr>\n",
       "    <tr>\n",
       "      <th>4</th>\n",
       "      <td>29.2</td>\n",
       "      <td>11.1</td>\n",
       "      <td>25.0</td>\n",
       "      <td>87.5</td>\n",
       "      <td>0.0</td>\n",
       "      <td>75.0</td>\n",
       "      <td>25.0</td>\n",
       "      <td>0</td>\n",
       "    </tr>\n",
       "  </tbody>\n",
       "</table>\n",
       "</div>"
      ],
      "text/plain": [
       "   % Acert. Mat  % Acert. Por  % Acert. Geo  % Acert. Ing  % Acert. His  \\\n",
       "0          25.0          38.9          87.5          37.5          12.5   \n",
       "1          79.2          55.6           0.0           0.0           0.0   \n",
       "2          58.3          88.9           0.0          62.5          87.5   \n",
       "3          41.7          38.9          37.5          50.0           0.0   \n",
       "4          29.2          11.1          25.0          87.5           0.0   \n",
       "\n",
       "   % Acert. Fis  % Acert. Qui  Desqualificados  \n",
       "0          66.7          25.0                0  \n",
       "1          91.7          66.7                0  \n",
       "2          33.3          33.3                0  \n",
       "3           0.0          66.7                1  \n",
       "4          75.0          25.0                0  "
      ]
     },
     "execution_count": 12,
     "metadata": {},
     "output_type": "execute_result"
    }
   ],
   "source": [
    "# Filtrando os alunos que zeraram em Matemática, Física ou Química\n",
    "\n",
    "df_acerto_assunto.loc[(df_acerto_assunto[['% Acert. Mat', '% Acert. Fis', '% Acert. Qui']] == 0).any(axis=1), 'Desqualificados'] = 1\n",
    "df_acerto_assunto.head()"
   ]
  },
  {
   "cell_type": "markdown",
   "metadata": {},
   "source": [
    "2. Número de alunos desqualificados"
   ]
  },
  {
   "cell_type": "code",
   "execution_count": 13,
   "metadata": {},
   "outputs": [
    {
     "name": "stdout",
     "output_type": "stream",
     "text": [
      "Quantidade de alunos desqualificados: 23\n"
     ]
    }
   ],
   "source": [
    "# Exibindo o número de alunos desqualificados\n",
    "\n",
    "quantidade_desqualificados = df_acerto_assunto['Desqualificados'].sum()\n",
    "\n",
    "print(f\"Quantidade de alunos desqualificados: {quantidade_desqualificados}\")"
   ]
  },
  {
   "cell_type": "markdown",
   "metadata": {
    "id": "hPaMGXvJC8-4"
   },
   "source": [
    "3. Qual a média desses alunos em história e geografia?"
   ]
  },
  {
   "cell_type": "code",
   "execution_count": 14,
   "metadata": {},
   "outputs": [
    {
     "data": {
      "text/html": [
       "<div>\n",
       "<style scoped>\n",
       "    .dataframe tbody tr th:only-of-type {\n",
       "        vertical-align: middle;\n",
       "    }\n",
       "\n",
       "    .dataframe tbody tr th {\n",
       "        vertical-align: top;\n",
       "    }\n",
       "\n",
       "    .dataframe thead th {\n",
       "        text-align: right;\n",
       "    }\n",
       "</style>\n",
       "<table border=\"1\" class=\"dataframe\">\n",
       "  <thead>\n",
       "    <tr style=\"text-align: right;\">\n",
       "      <th></th>\n",
       "      <th>% Acert. Mat</th>\n",
       "      <th>% Acert. Por</th>\n",
       "      <th>% Acert. Geo</th>\n",
       "      <th>% Acert. Ing</th>\n",
       "      <th>% Acert. His</th>\n",
       "      <th>% Acert. Fis</th>\n",
       "      <th>% Acert. Qui</th>\n",
       "      <th>Desqualificados</th>\n",
       "    </tr>\n",
       "  </thead>\n",
       "  <tbody>\n",
       "    <tr>\n",
       "      <th>3</th>\n",
       "      <td>41.7</td>\n",
       "      <td>38.9</td>\n",
       "      <td>37.5</td>\n",
       "      <td>50.0</td>\n",
       "      <td>0.0</td>\n",
       "      <td>0.0</td>\n",
       "      <td>66.7</td>\n",
       "      <td>1</td>\n",
       "    </tr>\n",
       "    <tr>\n",
       "      <th>6</th>\n",
       "      <td>25.0</td>\n",
       "      <td>0.0</td>\n",
       "      <td>87.5</td>\n",
       "      <td>87.5</td>\n",
       "      <td>62.5</td>\n",
       "      <td>0.0</td>\n",
       "      <td>33.3</td>\n",
       "      <td>1</td>\n",
       "    </tr>\n",
       "    <tr>\n",
       "      <th>10</th>\n",
       "      <td>41.7</td>\n",
       "      <td>44.4</td>\n",
       "      <td>37.5</td>\n",
       "      <td>25.0</td>\n",
       "      <td>12.5</td>\n",
       "      <td>58.3</td>\n",
       "      <td>0.0</td>\n",
       "      <td>1</td>\n",
       "    </tr>\n",
       "    <tr>\n",
       "      <th>12</th>\n",
       "      <td>83.3</td>\n",
       "      <td>44.4</td>\n",
       "      <td>37.5</td>\n",
       "      <td>87.5</td>\n",
       "      <td>12.5</td>\n",
       "      <td>0.0</td>\n",
       "      <td>25.0</td>\n",
       "      <td>1</td>\n",
       "    </tr>\n",
       "    <tr>\n",
       "      <th>14</th>\n",
       "      <td>29.2</td>\n",
       "      <td>61.1</td>\n",
       "      <td>12.5</td>\n",
       "      <td>87.5</td>\n",
       "      <td>12.5</td>\n",
       "      <td>33.3</td>\n",
       "      <td>0.0</td>\n",
       "      <td>1</td>\n",
       "    </tr>\n",
       "  </tbody>\n",
       "</table>\n",
       "</div>"
      ],
      "text/plain": [
       "    % Acert. Mat  % Acert. Por  % Acert. Geo  % Acert. Ing  % Acert. His  \\\n",
       "3           41.7          38.9          37.5          50.0           0.0   \n",
       "6           25.0           0.0          87.5          87.5          62.5   \n",
       "10          41.7          44.4          37.5          25.0          12.5   \n",
       "12          83.3          44.4          37.5          87.5          12.5   \n",
       "14          29.2          61.1          12.5          87.5          12.5   \n",
       "\n",
       "    % Acert. Fis  % Acert. Qui  Desqualificados  \n",
       "3            0.0          66.7                1  \n",
       "6            0.0          33.3                1  \n",
       "10          58.3           0.0                1  \n",
       "12           0.0          25.0                1  \n",
       "14          33.3           0.0                1  "
      ]
     },
     "execution_count": 14,
     "metadata": {},
     "output_type": "execute_result"
    }
   ],
   "source": [
    "# Filtrando os alunos desqualificados\n",
    "df_desqualificados = df_acerto_assunto[df_acerto_assunto['Desqualificados'] == 1]\n",
    "df_desqualificados.head()"
   ]
  },
  {
   "cell_type": "code",
   "execution_count": 15,
   "metadata": {},
   "outputs": [
    {
     "name": "stdout",
     "output_type": "stream",
     "text": [
      "Média das notas dos desqualificados:\n",
      "% Acert. His    42.934783\n",
      "% Acert. Geo    40.217391\n",
      "dtype: float64\n"
     ]
    }
   ],
   "source": [
    "media_desqualificados = df_desqualificados[['% Acert. His', '% Acert. Geo',]].mean()\n",
    "\n",
    "print(\"Média das notas dos desqualificados:\")\n",
    "print(media_desqualificados)\n"
   ]
  },
  {
   "cell_type": "markdown",
   "metadata": {},
   "source": [
    "# 4. Monte um DataFrame com os alunos que passaram para a segunda fase. Repare que estes alunos não podem ter sido desqualificados."
   ]
  },
  {
   "cell_type": "code",
   "execution_count": 36,
   "metadata": {},
   "outputs": [
    {
     "data": {
      "text/html": [
       "<div>\n",
       "<style scoped>\n",
       "    .dataframe tbody tr th:only-of-type {\n",
       "        vertical-align: middle;\n",
       "    }\n",
       "\n",
       "    .dataframe tbody tr th {\n",
       "        vertical-align: top;\n",
       "    }\n",
       "\n",
       "    .dataframe thead th {\n",
       "        text-align: right;\n",
       "    }\n",
       "</style>\n",
       "<table border=\"1\" class=\"dataframe\">\n",
       "  <thead>\n",
       "    <tr style=\"text-align: right;\">\n",
       "      <th></th>\n",
       "      <th>% Acert. Mat</th>\n",
       "      <th>% Acert. Por</th>\n",
       "      <th>% Acert. Geo</th>\n",
       "      <th>% Acert. Ing</th>\n",
       "      <th>% Acert. His</th>\n",
       "      <th>% Acert. Fis</th>\n",
       "      <th>% Acert. Qui</th>\n",
       "    </tr>\n",
       "  </thead>\n",
       "  <tbody>\n",
       "    <tr>\n",
       "      <th>1</th>\n",
       "      <td>79.2</td>\n",
       "      <td>55.6</td>\n",
       "      <td>0.0</td>\n",
       "      <td>0.0</td>\n",
       "      <td>0.0</td>\n",
       "      <td>91.7</td>\n",
       "      <td>66.7</td>\n",
       "    </tr>\n",
       "    <tr>\n",
       "      <th>2</th>\n",
       "      <td>58.3</td>\n",
       "      <td>88.9</td>\n",
       "      <td>0.0</td>\n",
       "      <td>62.5</td>\n",
       "      <td>87.5</td>\n",
       "      <td>33.3</td>\n",
       "      <td>33.3</td>\n",
       "    </tr>\n",
       "    <tr>\n",
       "      <th>5</th>\n",
       "      <td>83.3</td>\n",
       "      <td>11.1</td>\n",
       "      <td>62.5</td>\n",
       "      <td>37.5</td>\n",
       "      <td>25.0</td>\n",
       "      <td>75.0</td>\n",
       "      <td>75.0</td>\n",
       "    </tr>\n",
       "    <tr>\n",
       "      <th>7</th>\n",
       "      <td>75.0</td>\n",
       "      <td>22.2</td>\n",
       "      <td>50.0</td>\n",
       "      <td>87.5</td>\n",
       "      <td>87.5</td>\n",
       "      <td>8.3</td>\n",
       "      <td>66.7</td>\n",
       "    </tr>\n",
       "    <tr>\n",
       "      <th>8</th>\n",
       "      <td>91.7</td>\n",
       "      <td>50.0</td>\n",
       "      <td>25.0</td>\n",
       "      <td>87.5</td>\n",
       "      <td>75.0</td>\n",
       "      <td>41.7</td>\n",
       "      <td>58.3</td>\n",
       "    </tr>\n",
       "    <tr>\n",
       "      <th>17</th>\n",
       "      <td>87.5</td>\n",
       "      <td>83.3</td>\n",
       "      <td>25.0</td>\n",
       "      <td>25.0</td>\n",
       "      <td>50.0</td>\n",
       "      <td>16.7</td>\n",
       "      <td>50.0</td>\n",
       "    </tr>\n",
       "    <tr>\n",
       "      <th>18</th>\n",
       "      <td>83.3</td>\n",
       "      <td>22.2</td>\n",
       "      <td>37.5</td>\n",
       "      <td>62.5</td>\n",
       "      <td>37.5</td>\n",
       "      <td>91.7</td>\n",
       "      <td>33.3</td>\n",
       "    </tr>\n",
       "    <tr>\n",
       "      <th>24</th>\n",
       "      <td>83.3</td>\n",
       "      <td>11.1</td>\n",
       "      <td>87.5</td>\n",
       "      <td>62.5</td>\n",
       "      <td>37.5</td>\n",
       "      <td>91.7</td>\n",
       "      <td>16.7</td>\n",
       "    </tr>\n",
       "    <tr>\n",
       "      <th>31</th>\n",
       "      <td>62.5</td>\n",
       "      <td>72.2</td>\n",
       "      <td>37.5</td>\n",
       "      <td>12.5</td>\n",
       "      <td>37.5</td>\n",
       "      <td>75.0</td>\n",
       "      <td>83.3</td>\n",
       "    </tr>\n",
       "    <tr>\n",
       "      <th>36</th>\n",
       "      <td>91.7</td>\n",
       "      <td>50.0</td>\n",
       "      <td>75.0</td>\n",
       "      <td>75.0</td>\n",
       "      <td>12.5</td>\n",
       "      <td>33.3</td>\n",
       "      <td>66.7</td>\n",
       "    </tr>\n",
       "    <tr>\n",
       "      <th>37</th>\n",
       "      <td>79.2</td>\n",
       "      <td>66.7</td>\n",
       "      <td>62.5</td>\n",
       "      <td>87.5</td>\n",
       "      <td>12.5</td>\n",
       "      <td>50.0</td>\n",
       "      <td>16.7</td>\n",
       "    </tr>\n",
       "    <tr>\n",
       "      <th>39</th>\n",
       "      <td>16.7</td>\n",
       "      <td>88.9</td>\n",
       "      <td>25.0</td>\n",
       "      <td>50.0</td>\n",
       "      <td>75.0</td>\n",
       "      <td>75.0</td>\n",
       "      <td>66.7</td>\n",
       "    </tr>\n",
       "    <tr>\n",
       "      <th>40</th>\n",
       "      <td>75.0</td>\n",
       "      <td>16.7</td>\n",
       "      <td>75.0</td>\n",
       "      <td>37.5</td>\n",
       "      <td>75.0</td>\n",
       "      <td>41.7</td>\n",
       "      <td>50.0</td>\n",
       "    </tr>\n",
       "    <tr>\n",
       "      <th>42</th>\n",
       "      <td>83.3</td>\n",
       "      <td>33.3</td>\n",
       "      <td>87.5</td>\n",
       "      <td>87.5</td>\n",
       "      <td>25.0</td>\n",
       "      <td>25.0</td>\n",
       "      <td>25.0</td>\n",
       "    </tr>\n",
       "    <tr>\n",
       "      <th>45</th>\n",
       "      <td>70.8</td>\n",
       "      <td>55.6</td>\n",
       "      <td>0.0</td>\n",
       "      <td>25.0</td>\n",
       "      <td>75.0</td>\n",
       "      <td>75.0</td>\n",
       "      <td>33.3</td>\n",
       "    </tr>\n",
       "    <tr>\n",
       "      <th>48</th>\n",
       "      <td>70.8</td>\n",
       "      <td>33.3</td>\n",
       "      <td>0.0</td>\n",
       "      <td>87.5</td>\n",
       "      <td>62.5</td>\n",
       "      <td>75.0</td>\n",
       "      <td>91.7</td>\n",
       "    </tr>\n",
       "    <tr>\n",
       "      <th>60</th>\n",
       "      <td>66.7</td>\n",
       "      <td>44.4</td>\n",
       "      <td>0.0</td>\n",
       "      <td>50.0</td>\n",
       "      <td>50.0</td>\n",
       "      <td>58.3</td>\n",
       "      <td>75.0</td>\n",
       "    </tr>\n",
       "    <tr>\n",
       "      <th>62</th>\n",
       "      <td>70.8</td>\n",
       "      <td>33.3</td>\n",
       "      <td>25.0</td>\n",
       "      <td>50.0</td>\n",
       "      <td>87.5</td>\n",
       "      <td>8.3</td>\n",
       "      <td>75.0</td>\n",
       "    </tr>\n",
       "    <tr>\n",
       "      <th>67</th>\n",
       "      <td>87.5</td>\n",
       "      <td>0.0</td>\n",
       "      <td>87.5</td>\n",
       "      <td>25.0</td>\n",
       "      <td>50.0</td>\n",
       "      <td>16.7</td>\n",
       "      <td>83.3</td>\n",
       "    </tr>\n",
       "    <tr>\n",
       "      <th>70</th>\n",
       "      <td>87.5</td>\n",
       "      <td>77.8</td>\n",
       "      <td>0.0</td>\n",
       "      <td>37.5</td>\n",
       "      <td>62.5</td>\n",
       "      <td>91.7</td>\n",
       "      <td>66.7</td>\n",
       "    </tr>\n",
       "    <tr>\n",
       "      <th>71</th>\n",
       "      <td>70.8</td>\n",
       "      <td>44.4</td>\n",
       "      <td>87.5</td>\n",
       "      <td>75.0</td>\n",
       "      <td>50.0</td>\n",
       "      <td>16.7</td>\n",
       "      <td>75.0</td>\n",
       "    </tr>\n",
       "    <tr>\n",
       "      <th>77</th>\n",
       "      <td>62.5</td>\n",
       "      <td>11.1</td>\n",
       "      <td>62.5</td>\n",
       "      <td>87.5</td>\n",
       "      <td>75.0</td>\n",
       "      <td>91.7</td>\n",
       "      <td>58.3</td>\n",
       "    </tr>\n",
       "    <tr>\n",
       "      <th>78</th>\n",
       "      <td>58.3</td>\n",
       "      <td>88.9</td>\n",
       "      <td>87.5</td>\n",
       "      <td>25.0</td>\n",
       "      <td>87.5</td>\n",
       "      <td>91.7</td>\n",
       "      <td>75.0</td>\n",
       "    </tr>\n",
       "    <tr>\n",
       "      <th>81</th>\n",
       "      <td>91.7</td>\n",
       "      <td>88.9</td>\n",
       "      <td>25.0</td>\n",
       "      <td>0.0</td>\n",
       "      <td>50.0</td>\n",
       "      <td>8.3</td>\n",
       "      <td>83.3</td>\n",
       "    </tr>\n",
       "    <tr>\n",
       "      <th>88</th>\n",
       "      <td>83.3</td>\n",
       "      <td>5.6</td>\n",
       "      <td>12.5</td>\n",
       "      <td>62.5</td>\n",
       "      <td>87.5</td>\n",
       "      <td>75.0</td>\n",
       "      <td>58.3</td>\n",
       "    </tr>\n",
       "    <tr>\n",
       "      <th>93</th>\n",
       "      <td>50.0</td>\n",
       "      <td>88.9</td>\n",
       "      <td>62.5</td>\n",
       "      <td>62.5</td>\n",
       "      <td>75.0</td>\n",
       "      <td>50.0</td>\n",
       "      <td>50.0</td>\n",
       "    </tr>\n",
       "  </tbody>\n",
       "</table>\n",
       "</div>"
      ],
      "text/plain": [
       "    % Acert. Mat  % Acert. Por  % Acert. Geo  % Acert. Ing  % Acert. His  \\\n",
       "1           79.2          55.6           0.0           0.0           0.0   \n",
       "2           58.3          88.9           0.0          62.5          87.5   \n",
       "5           83.3          11.1          62.5          37.5          25.0   \n",
       "7           75.0          22.2          50.0          87.5          87.5   \n",
       "8           91.7          50.0          25.0          87.5          75.0   \n",
       "17          87.5          83.3          25.0          25.0          50.0   \n",
       "18          83.3          22.2          37.5          62.5          37.5   \n",
       "24          83.3          11.1          87.5          62.5          37.5   \n",
       "31          62.5          72.2          37.5          12.5          37.5   \n",
       "36          91.7          50.0          75.0          75.0          12.5   \n",
       "37          79.2          66.7          62.5          87.5          12.5   \n",
       "39          16.7          88.9          25.0          50.0          75.0   \n",
       "40          75.0          16.7          75.0          37.5          75.0   \n",
       "42          83.3          33.3          87.5          87.5          25.0   \n",
       "45          70.8          55.6           0.0          25.0          75.0   \n",
       "48          70.8          33.3           0.0          87.5          62.5   \n",
       "60          66.7          44.4           0.0          50.0          50.0   \n",
       "62          70.8          33.3          25.0          50.0          87.5   \n",
       "67          87.5           0.0          87.5          25.0          50.0   \n",
       "70          87.5          77.8           0.0          37.5          62.5   \n",
       "71          70.8          44.4          87.5          75.0          50.0   \n",
       "77          62.5          11.1          62.5          87.5          75.0   \n",
       "78          58.3          88.9          87.5          25.0          87.5   \n",
       "81          91.7          88.9          25.0           0.0          50.0   \n",
       "88          83.3           5.6          12.5          62.5          87.5   \n",
       "93          50.0          88.9          62.5          62.5          75.0   \n",
       "\n",
       "    % Acert. Fis  % Acert. Qui  \n",
       "1           91.7          66.7  \n",
       "2           33.3          33.3  \n",
       "5           75.0          75.0  \n",
       "7            8.3          66.7  \n",
       "8           41.7          58.3  \n",
       "17          16.7          50.0  \n",
       "18          91.7          33.3  \n",
       "24          91.7          16.7  \n",
       "31          75.0          83.3  \n",
       "36          33.3          66.7  \n",
       "37          50.0          16.7  \n",
       "39          75.0          66.7  \n",
       "40          41.7          50.0  \n",
       "42          25.0          25.0  \n",
       "45          75.0          33.3  \n",
       "48          75.0          91.7  \n",
       "60          58.3          75.0  \n",
       "62           8.3          75.0  \n",
       "67          16.7          83.3  \n",
       "70          91.7          66.7  \n",
       "71          16.7          75.0  \n",
       "77          91.7          58.3  \n",
       "78          91.7          75.0  \n",
       "81           8.3          83.3  \n",
       "88          75.0          58.3  \n",
       "93          50.0          50.0  "
      ]
     },
     "execution_count": 36,
     "metadata": {},
     "output_type": "execute_result"
    }
   ],
   "source": [
    "# Definir a nota de corte para a segunda fase\n",
    "nota_de_corte = 45\n",
    "\n",
    "# Filtrar os alunos que não foram desqualificados e têm nota maior que a nota de corte\n",
    "df_segunda_fase = df_acerto_assunto[\n",
    "    (df_acerto_assunto['Desqualificados'] != 1) & (df_total_acertos['Ttl. Acert. por aluno'] > nota_de_corte) ]\n",
    "#descartando a coluna 'Desqualificados' por ser desnecessário\n",
    "df_segunda_fase = df_segunda_fase.drop(['Desqualificados'], axis=1)\n",
    "# Exibir o DataFrame dos alunos que passaram para a segunda fase\n",
    "df_segunda_fase"
   ]
  },
  {
   "cell_type": "markdown",
   "metadata": {
    "id": "EGBUWpAHC8-5"
   },
   "source": [
    "## 3) Vacinações no Acre\n",
    "Vamos trabalhar agora com a base de vacinações no Acre. Para facilitar a sua vida, copiamos o link do arquivo na célula abaixo.\n",
    "\n",
    "1. Quantas vacinas estão registradas nessa base?  \n",
    "2. Quantos pacientes foram vacinados? (considere um paciente para cada valor único de ```paciente_id```)  \n",
    "3. Quantos pacientes únicos tomaram a primeira dose? OBS: Há um caractere especial neste campo. Receba os valores do campo com o método ```.unique()```.   \n",
    "4. Quantos pacientes com menos de 18 anos foram vacinados?  \n",
    "5. Quantos estabelecimentos aplicaram vacina no Acre?\n",
    "\n",
    "\n",
    "**OBS:** O portal do DATASUS pode apresentar instabilidades, retornando um erro na segunda célula abaixo. Por este motivo está disponível uma base estática, que se for baixada para o seu *working directory* pode ser lida com este comando: ```df = pd.read_csv('registros de vacinacao covid ACRE.csv', sep=';')```.\n",
    "\n",
    "**OBS2:** Para saber qual é o seu working directory, rode no jupyter: ```!pwd```."
   ]
  },
  {
   "cell_type": "code",
   "execution_count": 52,
   "metadata": {
    "id": "ET4r139hC8-5"
   },
   "outputs": [
    {
     "data": {
      "text/html": [
       "<div>\n",
       "<style scoped>\n",
       "    .dataframe tbody tr th:only-of-type {\n",
       "        vertical-align: middle;\n",
       "    }\n",
       "\n",
       "    .dataframe tbody tr th {\n",
       "        vertical-align: top;\n",
       "    }\n",
       "\n",
       "    .dataframe thead th {\n",
       "        text-align: right;\n",
       "    }\n",
       "</style>\n",
       "<table border=\"1\" class=\"dataframe\">\n",
       "  <thead>\n",
       "    <tr style=\"text-align: right;\">\n",
       "      <th></th>\n",
       "      <th>document_id</th>\n",
       "      <th>paciente_id</th>\n",
       "      <th>paciente_idade</th>\n",
       "      <th>paciente_dataNascimento</th>\n",
       "      <th>paciente_enumSexoBiologico</th>\n",
       "      <th>paciente_racaCor_codigo</th>\n",
       "      <th>paciente_racaCor_valor</th>\n",
       "      <th>paciente_endereco_coIbgeMunicipio</th>\n",
       "      <th>paciente_endereco_coPais</th>\n",
       "      <th>paciente_endereco_nmMunicipio</th>\n",
       "      <th>...</th>\n",
       "      <th>vacina_categoria_codigo</th>\n",
       "      <th>vacina_categoria_nome</th>\n",
       "      <th>vacina_lote</th>\n",
       "      <th>vacina_fabricante_nome</th>\n",
       "      <th>vacina_fabricante_referencia</th>\n",
       "      <th>vacina_dataAplicacao</th>\n",
       "      <th>vacina_descricao_dose</th>\n",
       "      <th>vacina_codigo</th>\n",
       "      <th>vacina_nome</th>\n",
       "      <th>sistema_origem</th>\n",
       "    </tr>\n",
       "  </thead>\n",
       "  <tbody>\n",
       "    <tr>\n",
       "      <th>0</th>\n",
       "      <td>eabf4056-cbc0-4cdf-856d-a122b5243917-i0b0</td>\n",
       "      <td>cf3c1f8005be8e3a6dcfd7476776b6d6de52afb20f4d30...</td>\n",
       "      <td>37</td>\n",
       "      <td>1984-02-10</td>\n",
       "      <td>M</td>\n",
       "      <td>3</td>\n",
       "      <td>PARDA</td>\n",
       "      <td>120040.0</td>\n",
       "      <td>10.0</td>\n",
       "      <td>RIO BRANCO</td>\n",
       "      <td>...</td>\n",
       "      <td>9.0</td>\n",
       "      <td>Trabalhadores de Saúde</td>\n",
       "      <td>FF8848</td>\n",
       "      <td>PFIZER</td>\n",
       "      <td>Organization/00394544000851</td>\n",
       "      <td>2021-10-20</td>\n",
       "      <td>Reforço</td>\n",
       "      <td>87</td>\n",
       "      <td>COVID-19 PFIZER - COMIRNATY</td>\n",
       "      <td>Novo PNI</td>\n",
       "    </tr>\n",
       "    <tr>\n",
       "      <th>1</th>\n",
       "      <td>dd097975-d896-4adc-97a1-5de3f51792a4-i0b0</td>\n",
       "      <td>5310f2da2074b4d20620f811323a6f7c4fc8853fc5a41f...</td>\n",
       "      <td>22</td>\n",
       "      <td>1998-08-09</td>\n",
       "      <td>F</td>\n",
       "      <td>99</td>\n",
       "      <td>SEM INFORMACAO</td>\n",
       "      <td>120013.0</td>\n",
       "      <td>10.0</td>\n",
       "      <td>BUJARI</td>\n",
       "      <td>...</td>\n",
       "      <td>2.0</td>\n",
       "      <td>Faixa Etária</td>\n",
       "      <td>FA9096</td>\n",
       "      <td>PFIZER</td>\n",
       "      <td>Organization/00394544000851</td>\n",
       "      <td>2021-07-23</td>\n",
       "      <td>1ª Dose</td>\n",
       "      <td>87</td>\n",
       "      <td>COVID-19 PFIZER - COMIRNATY</td>\n",
       "      <td>Novo PNI</td>\n",
       "    </tr>\n",
       "  </tbody>\n",
       "</table>\n",
       "<p>2 rows × 32 columns</p>\n",
       "</div>"
      ],
      "text/plain": [
       "                                 document_id  \\\n",
       "0  eabf4056-cbc0-4cdf-856d-a122b5243917-i0b0   \n",
       "1  dd097975-d896-4adc-97a1-5de3f51792a4-i0b0   \n",
       "\n",
       "                                         paciente_id  paciente_idade  \\\n",
       "0  cf3c1f8005be8e3a6dcfd7476776b6d6de52afb20f4d30...              37   \n",
       "1  5310f2da2074b4d20620f811323a6f7c4fc8853fc5a41f...              22   \n",
       "\n",
       "  paciente_dataNascimento paciente_enumSexoBiologico  paciente_racaCor_codigo  \\\n",
       "0              1984-02-10                          M                        3   \n",
       "1              1998-08-09                          F                       99   \n",
       "\n",
       "  paciente_racaCor_valor  paciente_endereco_coIbgeMunicipio  \\\n",
       "0                  PARDA                           120040.0   \n",
       "1         SEM INFORMACAO                           120013.0   \n",
       "\n",
       "   paciente_endereco_coPais paciente_endereco_nmMunicipio  ...  \\\n",
       "0                      10.0                    RIO BRANCO  ...   \n",
       "1                      10.0                        BUJARI  ...   \n",
       "\n",
       "  vacina_categoria_codigo   vacina_categoria_nome  vacina_lote  \\\n",
       "0                     9.0  Trabalhadores de Saúde       FF8848   \n",
       "1                     2.0            Faixa Etária       FA9096   \n",
       "\n",
       "  vacina_fabricante_nome  vacina_fabricante_referencia vacina_dataAplicacao  \\\n",
       "0                 PFIZER   Organization/00394544000851           2021-10-20   \n",
       "1                 PFIZER   Organization/00394544000851           2021-07-23   \n",
       "\n",
       "  vacina_descricao_dose  vacina_codigo                  vacina_nome  \\\n",
       "0               Reforço             87  COVID-19 PFIZER - COMIRNATY   \n",
       "1               1ª Dose             87  COVID-19 PFIZER - COMIRNATY   \n",
       "\n",
       "  sistema_origem  \n",
       "0       Novo PNI  \n",
       "1       Novo PNI  \n",
       "\n",
       "[2 rows x 32 columns]"
      ]
     },
     "execution_count": 52,
     "metadata": {},
     "output_type": "execute_result"
    }
   ],
   "source": [
    "import pandas as pd\n",
    "import numpy as np\n",
    "df_vacina = pd.read_csv('registros de vacinacao covid ACRE.csv', sep=';')\n",
    "df_vacina.head(2)"
   ]
  },
  {
   "cell_type": "markdown",
   "metadata": {
    "id": "SC9YMWLSC8-6"
   },
   "source": [
    "# 1) Quantas vacinas estão registradas nessa base?\n"
   ]
  },
  {
   "cell_type": "code",
   "execution_count": 53,
   "metadata": {},
   "outputs": [
    {
     "name": "stdout",
     "output_type": "stream",
     "text": [
      "Temos 15 vacinas únicas registradas na base.\n"
     ]
    }
   ],
   "source": [
    "arr_vacina_unica = df_vacina['vacina_nome'].nunique()\n",
    "\n",
    "print(f\"Temos {arr_vacina_unica} vacinas únicas registradas na base.\")"
   ]
  },
  {
   "cell_type": "markdown",
   "metadata": {},
   "source": [
    "# 2. Quantos pacientes foram vacinados? (considere um paciente para cada valor único de paciente_id)"
   ]
  },
  {
   "cell_type": "code",
   "execution_count": 54,
   "metadata": {
    "id": "PMztY1RlC8-7"
   },
   "outputs": [
    {
     "name": "stdout",
     "output_type": "stream",
     "text": [
      "Temos 318850 pacientes vacinados na base.\n"
     ]
    }
   ],
   "source": [
    "\n",
    "num_pacientes_vacinados = df_vacina['paciente_id'].nunique()\n",
    "print(f\"Temos {num_pacientes_vacinados} pacientes vacinados na base.\")\n"
   ]
  },
  {
   "cell_type": "markdown",
   "metadata": {
    "id": "V_wr--3JC8-7"
   },
   "source": [
    "# 3) Quantos pacientes únicos tomaram a primeira dose? OBS: Há um caractere especial neste campo. Receba os valores do campo com o método .unique()\n"
   ]
  },
  {
   "cell_type": "code",
   "execution_count": 55,
   "metadata": {},
   "outputs": [
    {
     "name": "stdout",
     "output_type": "stream",
     "text": [
      "Quantidade de pacientes únicos que tomaram a primeira dose: 143753\n"
     ]
    }
   ],
   "source": [
    "paciente_1a_dose = df_vacina[df_vacina['vacina_descricao_dose'] == \"1ª Dose\" ]['paciente_id'].nunique()\n",
    "\n",
    "print(f\"Quantidade de pacientes únicos que tomaram a primeira dose: {paciente_1a_dose}\")"
   ]
  },
  {
   "cell_type": "markdown",
   "metadata": {},
   "source": [
    "# 4. Quantos pacientes com menos de 18 anos foram vacinados?"
   ]
  },
  {
   "cell_type": "code",
   "execution_count": 56,
   "metadata": {
    "id": "SPHgIxtcC8-7"
   },
   "outputs": [
    {
     "name": "stdout",
     "output_type": "stream",
     "text": [
      "Quantidade de pacientes com menos de 18 anos é: 69726\n"
     ]
    }
   ],
   "source": [
    "num_pacientes_menos18_vacinados = df_vacina[df_vacina['paciente_idade'] < 18]['paciente_id'].nunique()\n",
    "print(f\"Quantidade de pacientes com menos de 18 anos é: {num_pacientes_menos18_vacinados}\")"
   ]
  },
  {
   "cell_type": "markdown",
   "metadata": {
    "id": "S6ab9ExEC8-7"
   },
   "source": [
    "# 5. Quantos estabelecimentos aplicaram vacina no Acre?\n"
   ]
  },
  {
   "cell_type": "code",
   "execution_count": 64,
   "metadata": {},
   "outputs": [
    {
     "data": {
      "text/plain": [
       "Index(['document_id', 'paciente_id', 'paciente_idade',\n",
       "       'paciente_dataNascimento', 'paciente_enumSexoBiologico',\n",
       "       'paciente_racaCor_codigo', 'paciente_racaCor_valor',\n",
       "       'paciente_endereco_coIbgeMunicipio', 'paciente_endereco_coPais',\n",
       "       'paciente_endereco_nmMunicipio', 'paciente_endereco_nmPais',\n",
       "       'paciente_endereco_uf', 'paciente_endereco_cep',\n",
       "       'paciente_nacionalidade_enumNacionalidade', 'estabelecimento_valor',\n",
       "       'estabelecimento_razaoSocial', 'estalecimento_noFantasia',\n",
       "       'estabelecimento_municipio_codigo', 'estabelecimento_municipio_nome',\n",
       "       'estabelecimento_uf', 'vacina_grupoAtendimento_codigo',\n",
       "       'vacina_grupoAtendimento_nome', 'vacina_categoria_codigo',\n",
       "       'vacina_categoria_nome', 'vacina_lote', 'vacina_fabricante_nome',\n",
       "       'vacina_fabricante_referencia', 'vacina_dataAplicacao',\n",
       "       'vacina_descricao_dose', 'vacina_codigo', 'vacina_nome',\n",
       "       'sistema_origem'],\n",
       "      dtype='object')"
      ]
     },
     "execution_count": 64,
     "metadata": {},
     "output_type": "execute_result"
    }
   ],
   "source": [
    "# verificando as colunas\n",
    "df_vacina.columns"
   ]
  },
  {
   "cell_type": "code",
   "execution_count": 63,
   "metadata": {
    "id": "PVrY_-qlC8-8"
   },
   "outputs": [
    {
     "name": "stdout",
     "output_type": "stream",
     "text": [
      "Temos 64 estabelebimento(s), na base, que aplicaram vacinas. \n"
     ]
    }
   ],
   "source": [
    "num_estabelecimentos = df_vacina['estabelecimento_razaoSocial'].nunique()\n",
    "print(f\"Temos {num_estabelecimentos} estabelebimento(s), na base, que aplicaram vacinas. \")"
   ]
  },
  {
   "cell_type": "markdown",
   "metadata": {
    "id": "LH1LSYvGC8-8"
   },
   "source": [
    "## 4) Vacinação II\n",
    "Gere um *DataFrame* que contenha somente os estabelecimentos que aplicaram vcinas a menores de 18 anos. Nesse *DataFrame* devem conter somente os dados dos estabelecimentos, mais uma coluna sendo a quantidade de vacinas que o estabelecimento aplicou a menores de 18 anos.  \n",
    "  \n",
    "1. crie uma cópia do *DataFrame* original, contendo somente os registros de vacinas realizadas a menores de 18 anos.  \n",
    "2. crie uma lista das colunas desse *DataFrame* com o atributo de *DataFrame* **.columns()**  \n",
    "3. Nesse *DataFrame* faça uma contagem do campo ```vacina_categoria_nome```.\n",
    "3. a partir da lista de colunas, escolha somente aquelas que são referentes ao estabelecimento, faça uma lista com esses valores.  \n",
    "4. usando o método *.loc*, selecione somente essas variáveis  \n",
    "5. Aplique o método **.drop_duplicates** e crie uma lista com uma linha para cada estabelecimento, com os dados do estabelecimento  "
   ]
  },
  {
   "cell_type": "code",
   "execution_count": 68,
   "metadata": {
    "id": "3ojs12vUC8-8"
   },
   "outputs": [],
   "source": [
    "# 1) Crie uma cópia do DataFrame original, contendo somente os registros de vacinas realizadas a menores de 18 anos.\n",
    "df_vacina_menor = df_vacina[df_vacina[\"paciente_idade\"]<18].copy()\n"
   ]
  },
  {
   "cell_type": "code",
   "execution_count": 82,
   "metadata": {
    "id": "sLyevPRBC8-8"
   },
   "outputs": [
    {
     "name": "stdout",
     "output_type": "stream",
     "text": [
      "<class 'list'>\n"
     ]
    },
    {
     "data": {
      "text/plain": [
       "['document_id',\n",
       " 'paciente_id',\n",
       " 'paciente_idade',\n",
       " 'paciente_dataNascimento',\n",
       " 'paciente_enumSexoBiologico',\n",
       " 'paciente_racaCor_codigo',\n",
       " 'paciente_racaCor_valor',\n",
       " 'paciente_endereco_coIbgeMunicipio',\n",
       " 'paciente_endereco_coPais',\n",
       " 'paciente_endereco_nmMunicipio',\n",
       " 'paciente_endereco_nmPais',\n",
       " 'paciente_endereco_uf',\n",
       " 'paciente_endereco_cep',\n",
       " 'paciente_nacionalidade_enumNacionalidade',\n",
       " 'estabelecimento_valor',\n",
       " 'estabelecimento_razaoSocial',\n",
       " 'estalecimento_noFantasia',\n",
       " 'estabelecimento_municipio_codigo',\n",
       " 'estabelecimento_municipio_nome',\n",
       " 'estabelecimento_uf',\n",
       " 'vacina_grupoAtendimento_codigo',\n",
       " 'vacina_grupoAtendimento_nome',\n",
       " 'vacina_categoria_codigo',\n",
       " 'vacina_categoria_nome',\n",
       " 'vacina_lote',\n",
       " 'vacina_fabricante_nome',\n",
       " 'vacina_fabricante_referencia',\n",
       " 'vacina_dataAplicacao',\n",
       " 'vacina_descricao_dose',\n",
       " 'vacina_codigo',\n",
       " 'vacina_nome',\n",
       " 'sistema_origem']"
      ]
     },
     "execution_count": 82,
     "metadata": {},
     "output_type": "execute_result"
    }
   ],
   "source": [
    "# 2) Crie uma lista das colunas desse DataFrame com o atributo de DataFrame .columns()\n",
    "list_coluna_df_vacina_menor = list(df_vacina_menor.columns)\n",
    "print(type(list_coluna_df_vacina_menor))\n",
    "list_coluna_df_vacina_menor"
   ]
  },
  {
   "cell_type": "code",
   "execution_count": 84,
   "metadata": {
    "id": "lZAW-Dp8C8-8"
   },
   "outputs": [
    {
     "data": {
      "text/plain": [
       "vacina_categoria_nome\n",
       "Faixa Etária                                      49015\n",
       "Povos Indígenas                                    4934\n",
       "Outros                                             3755\n",
       "Povos e Comunidades Tradicionais                    875\n",
       "Trabalhadores de Saúde                              264\n",
       "Comorbidades                                         58\n",
       "População Privada de Liberdade                       53\n",
       "Gestantes                                            47\n",
       "Trabalhadores da Educação                            14\n",
       "Trabalhadores de Transporte                          13\n",
       "Pessoas com Deficiência                              11\n",
       "Pessoas Institucionalizadas                           3\n",
       "Pessoas de 60 anos ou mais institucionalizadas        1\n",
       "Puérperas                                             1\n",
       "Name: count, dtype: int64"
      ]
     },
     "execution_count": 84,
     "metadata": {},
     "output_type": "execute_result"
    }
   ],
   "source": [
    "# 3) Nesse DataFrame faça uma contagem do campo vacina_categoria_nome\n",
    "df_vacina_menor['vacina_categoria_nome'].value_counts()"
   ]
  },
  {
   "cell_type": "code",
   "execution_count": 93,
   "metadata": {
    "id": "xxYsxrxAC8-8"
   },
   "outputs": [],
   "source": [
    "# 4) a partir da lista de colunas, escolha somente aquelas que são referentes ao estabelecimento, faça uma lista com esses valores.\n",
    "lista_variaveis_estabelecimento = ['estabelecimento_valor',\n",
    "       'estabelecimento_razaoSocial', 'estalecimento_noFantasia',\n",
    "       'estabelecimento_municipio_codigo', 'estabelecimento_municipio_nome',\n",
    "       'estabelecimento_uf']\n"
   ]
  },
  {
   "cell_type": "code",
   "execution_count": 94,
   "metadata": {
    "id": "vaX2x_0rC8-8"
   },
   "outputs": [],
   "source": [
    "# 5)usando o método .loc, selecione somente essas variáveis\n",
    "list__estabelecimento_menor= df_vacina_menor.loc[:,lista_variaveis_estabelecimento]"
   ]
  },
  {
   "cell_type": "code",
   "execution_count": 95,
   "metadata": {},
   "outputs": [
    {
     "data": {
      "text/plain": [
       "(213, 6)"
      ]
     },
     "execution_count": 95,
     "metadata": {},
     "output_type": "execute_result"
    }
   ],
   "source": [
    "# 6) Aplique o método .drop_duplicates e crie uma lista com uma linha para cada estabelecimento, com os dados do estabelecimento\n",
    "list__estabelecimento_menor = list__estabelecimento_menor.drop_duplicates()\n",
    "list__estabelecimento_menor.shape"
   ]
  }
 ],
 "metadata": {
  "colab": {
   "provenance": []
  },
  "kernelspec": {
   "display_name": "Python 3 (ipykernel)",
   "language": "python",
   "name": "python3"
  },
  "language_info": {
   "codemirror_mode": {
    "name": "ipython",
    "version": 3
   },
   "file_extension": ".py",
   "mimetype": "text/x-python",
   "name": "python",
   "nbconvert_exporter": "python",
   "pygments_lexer": "ipython3",
   "version": "3.12.4"
  },
  "toc": {
   "base_numbering": 1,
   "nav_menu": {},
   "number_sections": false,
   "sideBar": true,
   "skip_h1_title": true,
   "title_cell": "Índice",
   "title_sidebar": "Conteúdo",
   "toc_cell": false,
   "toc_position": {},
   "toc_section_display": true,
   "toc_window_display": false
  },
  "varInspector": {
   "cols": {
    "lenName": 16,
    "lenType": 16,
    "lenVar": 40
   },
   "kernels_config": {
    "python": {
     "delete_cmd_postfix": "",
     "delete_cmd_prefix": "del ",
     "library": "var_list.py",
     "varRefreshCmd": "print(var_dic_list())"
    },
    "r": {
     "delete_cmd_postfix": ") ",
     "delete_cmd_prefix": "rm(",
     "library": "var_list.r",
     "varRefreshCmd": "cat(var_dic_list()) "
    }
   },
   "types_to_exclude": [
    "module",
    "function",
    "builtin_function_or_method",
    "instance",
    "_Feature"
   ],
   "window_display": false
  }
 },
 "nbformat": 4,
 "nbformat_minor": 4
}
